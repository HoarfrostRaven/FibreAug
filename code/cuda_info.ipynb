{
 "cells": [
  {
   "cell_type": "code",
   "execution_count": null,
   "metadata": {},
   "outputs": [],
   "source": [
    "import torch"
   ]
  },
  {
   "cell_type": "code",
   "execution_count": null,
   "metadata": {},
   "outputs": [],
   "source": [
    "\n",
    "def get_gpu_info():\n",
    "    # Check if CUDA is available\n",
    "    if torch.cuda.is_available(): \n",
    "        print(\"CUDA is available!\")\n",
    "        \n",
    "        # Number of CUDA devices\n",
    "        num_devices = torch.cuda.device_count()\n",
    "        print(f\"Number of GPU devices: {num_devices}\")\n",
    "        \n",
    "        # Print some basic info for each device\n",
    "        for i in range(num_devices):\n",
    "            device = torch.device(f'cuda:{i}')\n",
    "            \n",
    "            print(f\"\\nInformation for device {i}:\")\n",
    "            print(f\"    Name: {torch.cuda.get_device_name(device)}\")\n",
    "            print(f\"    Capability: {torch.cuda.get_device_capability(device)}\")\n",
    "            \n",
    "            # Get the total and remaining memory for the device\n",
    "            total_memory = torch.cuda.get_device_properties(device).total_memory\n",
    "            total_memory_gb = total_memory / 1024**3\n",
    "            print(f\"    Total Memory: {total_memory_gb} GB\")\n",
    "\n",
    "            # torch.cuda.memory_allocated() returns the current GPU memory managed by the\n",
    "            # caching allocator in bytes for a given device.\n",
    "            allocated_memory = torch.cuda.memory_allocated(device) / 1024**3\n",
    "            print(f\"    Allocated Memory: {allocated_memory} GB\")\n",
    "\n",
    "            # torch.cuda.memory_reserved() returns the current GPU memory managed by the\n",
    "            # caching allocator in bytes for a given device.\n",
    "            reserved_memory = torch.cuda.memory_reserved(device) / 1024**3\n",
    "            print(f\"    Reserved Memory: {reserved_memory} GB\")\n",
    "            \n",
    "            # Calculate and print remaining memory\n",
    "            free_memory_gb = total_memory_gb - allocated_memory\n",
    "            print(f\"    Free Memory: {free_memory_gb} GB\")\n",
    "            \n",
    "    else:\n",
    "        print(\"CUDA is not available.\")"
   ]
  },
  {
   "cell_type": "code",
   "execution_count": null,
   "metadata": {},
   "outputs": [],
   "source": [
    "get_gpu_info()"
   ]
  }
 ],
 "metadata": {
  "language_info": {
   "name": "python"
  },
  "orig_nbformat": 4
 },
 "nbformat": 4,
 "nbformat_minor": 2
}
