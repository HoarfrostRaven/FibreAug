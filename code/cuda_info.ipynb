{
 "cells": [
  {
   "cell_type": "code",
   "execution_count": 1,
   "id": "a5a7d31e-70c5-4ac5-a8cd-9b29e194adcf",
   "metadata": {
    "tags": []
   },
   "outputs": [
    {
     "name": "stderr",
     "output_type": "stream",
     "text": [
      "/usr/local/lib/python3.9/dist-packages/tqdm/auto.py:21: TqdmWarning: IProgress not found. Please update jupyter and ipywidgets. See https://ipywidgets.readthedocs.io/en/stable/user_install.html\n",
      "  from .autonotebook import tqdm as notebook_tqdm\n"
     ]
    }
   ],
   "source": [
    "import torch"
   ]
  },
  {
   "cell_type": "code",
   "execution_count": 2,
   "id": "e5ea0b64-36a6-4ab5-ba53-ad30b1373e1f",
   "metadata": {
    "tags": []
   },
   "outputs": [],
   "source": [
    "\n",
    "def get_gpu_info():\n",
    "    # Check if CUDA is available\n",
    "    if torch.cuda.is_available(): \n",
    "        print(\"CUDA is available!\")\n",
    "        \n",
    "        # Number of CUDA devices\n",
    "        num_devices = torch.cuda.device_count()\n",
    "        print(f\"Number of GPU devices: {num_devices}\")\n",
    "        \n",
    "        # Print some basic info for each device\n",
    "        for i in range(num_devices):\n",
    "            device = torch.device(f'cuda:{i}')\n",
    "            \n",
    "            print(f\"\\nInformation for device {i}:\")\n",
    "            print(f\"    Name: {torch.cuda.get_device_name(device)}\")\n",
    "            print(f\"    Capability: {torch.cuda.get_device_capability(device)}\")\n",
    "            \n",
    "            # Get the total and remaining memory for the device\n",
    "            total_memory = torch.cuda.get_device_properties(device).total_memory\n",
    "            total_memory_gb = total_memory / 1024**3\n",
    "            print(f\"    Total Memory: {total_memory_gb} GB\")\n",
    "\n",
    "            # torch.cuda.memory_allocated() returns the current GPU memory managed by the\n",
    "            # caching allocator in bytes for a given device.\n",
    "            allocated_memory = torch.cuda.memory_allocated(device) / 1024**3\n",
    "            print(f\"    Allocated Memory: {allocated_memory} GB\")\n",
    "\n",
    "            # torch.cuda.memory_reserved() returns the current GPU memory managed by the\n",
    "            # caching allocator in bytes for a given device.\n",
    "            reserved_memory = torch.cuda.memory_reserved(device) / 1024**3\n",
    "            print(f\"    Reserved Memory: {reserved_memory} GB\")\n",
    "            \n",
    "            # Calculate and print remaining memory\n",
    "            free_memory_gb = total_memory_gb - allocated_memory\n",
    "            print(f\"    Free Memory: {free_memory_gb} GB\")\n",
    "            \n",
    "    else:\n",
    "        print(\"CUDA is not available.\")"
   ]
  },
  {
   "cell_type": "code",
   "execution_count": 3,
   "id": "7ef9d9f9-5583-4dfc-a34b-c69906ac475a",
   "metadata": {
    "tags": []
   },
   "outputs": [
    {
     "name": "stdout",
     "output_type": "stream",
     "text": [
      "CUDA is available!\n",
      "Number of GPU devices: 3\n",
      "\n",
      "Information for device 0:\n",
      "    Name: GeForce GTX 1080 Ti\n",
      "    Capability: (6, 1)\n",
      "    Total Memory: 10.91650390625 GB\n",
      "    Allocated Memory: 0.0 GB\n",
      "    Reserved Memory: 0.0 GB\n",
      "    Free Memory: 10.91650390625 GB\n",
      "\n",
      "Information for device 1:\n",
      "    Name: GeForce GTX 1080 Ti\n",
      "    Capability: (6, 1)\n",
      "    Total Memory: 10.91650390625 GB\n",
      "    Allocated Memory: 0.0 GB\n",
      "    Reserved Memory: 0.0 GB\n",
      "    Free Memory: 10.91650390625 GB\n",
      "\n",
      "Information for device 2:\n",
      "    Name: GeForce GTX 1080 Ti\n",
      "    Capability: (6, 1)\n",
      "    Total Memory: 10.91650390625 GB\n",
      "    Allocated Memory: 0.0 GB\n",
      "    Reserved Memory: 0.0 GB\n",
      "    Free Memory: 10.91650390625 GB\n"
     ]
    }
   ],
   "source": [
    "get_gpu_info()"
   ]
  },
  {
   "cell_type": "code",
   "execution_count": null,
   "id": "285c865d-9ba9-4e49-9265-e8b999ff0f32",
   "metadata": {},
   "outputs": [],
   "source": []
  }
 ],
 "metadata": {
  "kernelspec": {
   "display_name": "Python 3 (ipykernel)",
   "language": "python",
   "name": "python3"
  },
  "language_info": {
   "codemirror_mode": {
    "name": "ipython",
    "version": 3
   },
   "file_extension": ".py",
   "mimetype": "text/x-python",
   "name": "python",
   "nbconvert_exporter": "python",
   "pygments_lexer": "ipython3",
   "version": "3.9.16"
  }
 },
 "nbformat": 4,
 "nbformat_minor": 5
}
