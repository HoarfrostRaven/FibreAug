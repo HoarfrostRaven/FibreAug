{
 "cells": [
  {
   "cell_type": "code",
   "execution_count": 1,
   "id": "fe4a5ad4-6a32-406c-bdc6-c1354a01e43f",
   "metadata": {
    "tags": []
   },
   "outputs": [
    {
     "name": "stderr",
     "output_type": "stream",
     "text": [
      "/usr/local/lib/python3.9/dist-packages/tqdm/auto.py:21: TqdmWarning: IProgress not found. Please update jupyter and ipywidgets. See https://ipywidgets.readthedocs.io/en/stable/user_install.html\n",
      "  from .autonotebook import tqdm as notebook_tqdm\n"
     ]
    }
   ],
   "source": [
    "import os\n",
    "from gan_utils import gan\n",
    "from gan_utils import gan_trainer\n",
    "from gan_utils import my_dataset\n",
    "from torchvision import transforms\n",
    "from torch.utils.data import DataLoader\n",
    "from matplotlib import pyplot as plt\n",
    "import numpy as np\n",
    "import torch\n",
    "os.environ[\"CUDA_VISIBLE_DEVICES\"]=\"2\"\n",
    "torch.backends.cuda.max_split_size_mb = 16"
   ]
  },
  {
   "cell_type": "code",
   "execution_count": 2,
   "id": "d11febf3-f8cd-4c03-966f-caf51ea77c60",
   "metadata": {},
   "outputs": [],
   "source": [
    "# Paths and directories\n",
    "project_dir = os.path.abspath(os.path.join(os.getcwd(), \"..\"))\n",
    "data_dir = os.path.join(project_dir, \"dataset\", \"sprites_1788_16_16.npy\")\n",
    "test_dir = os.path.join(project_dir, \"test_gan\", \"test4\")\n",
    "checkpoint = os.path.join(test_dir, \"checkpoint_119.pth\")\n",
    "\n",
    "# Create directories if they don't exist\n",
    "os.makedirs(test_dir, exist_ok=True)"
   ]
  },
  {
   "cell_type": "code",
   "execution_count": 3,
   "id": "a7a12d39-d911-4b2e-a3cb-44a7c5072765",
   "metadata": {
    "tags": []
   },
   "outputs": [
    {
     "data": {
      "image/png": "[encoded data removed]",
      "text/plain": [
       "<Figure size 500x500 with 1 Axes>"
      ]
     },
     "metadata": {},
     "output_type": "display_data"
    }
   ],
   "source": [
    "# visualize the image\n",
    "images = np.load(data_dir)\n",
    "image = images[0]\n",
    "# visualize\n",
    "plt.figure(figsize=(5, 5))\n",
    "plt.axis('off')\n",
    "plt.imshow(image)\n",
    "plt.savefig(os.path.join(test_dir, \"example.png\"))"
   ]
  },
  {
   "cell_type": "code",
   "execution_count": 4,
   "id": "ca28cca8-f8b4-4577-a0cb-ac675f49dcff",
   "metadata": {},
   "outputs": [],
   "source": [
    "# Config\n",
    "z_dim = 200\n",
    "image_size = (3, 16, 16)\n",
    "batch_size = 2\n",
    "epochs = 61\n",
    "lr_gen = 0.0002\n",
    "lr_dis = 0.0001\n",
    "train_enable = False"
   ]
  },
  {
   "cell_type": "code",
   "execution_count": 5,
   "id": "12617981-25e8-48f7-9ee8-cd2b2364151a",
   "metadata": {},
   "outputs": [],
   "source": [
    "# Dataset\n",
    "transform = transforms.Compose([\n",
    "            transforms.ToTensor(),\n",
    "            transforms.Normalize([0.5, 0.5, 0.5], [0.5, 0.5, 0.5])\n",
    "        ])\n",
    "dataset = my_dataset.MyDataset(data_dir, transform=transform)\n",
    "dataloader = DataLoader(dataset, batch_size=batch_size, shuffle=True)"
   ]
  },
  {
   "cell_type": "code",
   "execution_count": 6,
   "id": "ae67e287-1b0a-4a52-ac92-4e64b7c0d9e4",
   "metadata": {},
   "outputs": [],
   "source": [
    "# Initialize Generator and Discriminator\n",
    "generator = gan.Generator(z_dim=z_dim, num_filters=64, target_image_size=image_size)\n",
    "discriminator = gan.Discriminator(image_size=image_size, num_filters=64)\n",
    "\n",
    "# Create GAN trainer\n",
    "device = torch.device('cuda' if torch.cuda.is_available() else 'cpu')\n",
    "trainer = gan_trainer.GANTrainer(\n",
    "    generator, discriminator, z_dim=z_dim, dataloader=dataloader, batch_size=batch_size, device=device, lr_gen=lr_gen, lr_dis=lr_dis)"
   ]
  },
  {
   "cell_type": "code",
   "execution_count": 7,
   "id": "33b21979-46ad-4e23-ac4e-17a07b4d9821",
   "metadata": {},
   "outputs": [
    {
     "name": "stdout",
     "output_type": "stream",
     "text": [
      "Loaded checkpoint from epoch 119 with gen_loss=0.02730220928788185, dis_loss=-0.005030624568462372\n"
     ]
    }
   ],
   "source": [
    "# Load checkpoint\n",
    "if os.path.exists(checkpoint):\n",
    "    start_epoch = trainer.load_checkpoint(checkpoint) + 1\n",
    "else:\n",
    "    start_epoch = 0"
   ]
  },
  {
   "cell_type": "code",
   "execution_count": 8,
   "id": "2ac21e84-e1eb-40b7-959a-a6559870da36",
   "metadata": {},
   "outputs": [],
   "source": [
    "# Train GAN\n",
    "if train_enable:\n",
    "    trainer.train(epochs=epochs, save_dir=test_dir, start_epoch=start_epoch)"
   ]
  },
  {
   "cell_type": "code",
   "execution_count": 9,
   "id": "b0020cbb-c272-4976-95f1-9ec797258794",
   "metadata": {},
   "outputs": [],
   "source": [
    "# Sampling\n",
    "z = torch.randn(1, z_dim, device=device)\n",
    "output = generator(z)"
   ]
  },
  {
   "cell_type": "code",
   "execution_count": 10,
   "id": "36ce845f-b3e6-424b-9459-f7e326159413",
   "metadata": {
    "tags": []
   },
   "outputs": [],
   "source": [
    "def visualize(output, save_path=None):\n",
    "    # Move tensor to CPU and convert to Numpy array\n",
    "    image = output.cpu().detach().numpy()\n",
    "\n",
    "    # If image is in [C, H, W] format, need to transpose it to [H, W, C]\n",
    "    if image.shape[0] in [3, 4]:\n",
    "        image = image.transpose(1, 2, 0)\n",
    "        \n",
    "    # If image has pixel values between [0, 1], need to rescale them to [0, 255]\n",
    "    if image.max() <= 1.0:\n",
    "        image *= 255\n",
    "    \n",
    "    plt.imshow(image.astype('uint8'))\n",
    "    \n",
    "    # If save_path is provided, save the image to the specified path\n",
    "    if save_path:\n",
    "        plt.savefig(save_path)\n",
    "\n",
    "    plt.show()"
   ]
  },
  {
   "cell_type": "code",
   "execution_count": 11,
   "id": "4b32a9ec-85d7-48ad-9b47-7b5b23e55ea6",
   "metadata": {
    "tags": []
   },
   "outputs": [
    {
     "data": {
      "image/png": "[encoded data removed]",
      "text/plain": [
       "<Figure size 640x480 with 1 Axes>"
      ]
     },
     "metadata": {},
     "output_type": "display_data"
    }
   ],
   "source": [
    "visualize(output[0], os.path.join(test_dir, \"result.png\"))"
   ]
  }
 ],
 "metadata": {
  "kernelspec": {
   "display_name": "Python 3 (ipykernel)",
   "language": "python",
   "name": "python3"
  },
  "language_info": {
   "codemirror_mode": {
    "name": "ipython",
    "version": 3
   },
   "file_extension": ".py",
   "mimetype": "text/x-python",
   "name": "python",
   "nbconvert_exporter": "python",
   "pygments_lexer": "ipython3",
   "version": "3.9.16"
  }
 },
 "nbformat": 4,
 "nbformat_minor": 5
}
