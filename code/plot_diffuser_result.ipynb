{
 "cells": [
  {
   "cell_type": "code",
   "execution_count": null,
   "metadata": {},
   "outputs": [],
   "source": [
    "import os\n",
    "import matplotlib.pyplot as plt\n",
    "from matplotlib.animation import FuncAnimation, PillowWriter"
   ]
  },
  {
   "cell_type": "code",
   "execution_count": null,
   "metadata": {},
   "outputs": [],
   "source": [
    "def plot_sample(images, save_dir=None):\n",
    "    \n",
    "    # create gif of images evolving over time, based on x_gen_store\n",
    "    fig, axs = plt.subplots(nrows=1, ncols=1, sharex=True, sharey=True, figsize=(1, 1))\n",
    "\n",
    "    def animate_diff(i, images):\n",
    "        print(f'gif animating frame {i+1} of {images.shape[0]}', end='\\r')\n",
    "        return axs.imshow(images[i])\n",
    "\n",
    "    ani = FuncAnimation(fig, animate_diff, fargs=[\n",
    "                        images],  interval=200, blit=False, repeat=True, frames=images.shape[0])\n",
    "    plt.close()\n",
    "    if save_dir:\n",
    "        ani.save(os.path.join(save_dir, \"diffuser.gif\"),\n",
    "                 dpi=100, writer=PillowWriter(fps=5))\n",
    "        print(\"saved gif\")\n",
    "    return ani"
   ]
  },
  {
   "cell_type": "code",
   "execution_count": null,
   "metadata": {},
   "outputs": [],
   "source": [
    "folder_path = os.path.abspath(os.path.join(os.getcwd(), \"..\"))\n",
    "image_path = os.path.join(folder_path, \"dataset\", \"raw_data\")\n",
    "save_dir = os.path.join(folder_path, \"test_diffusion_model\", \"test1\")\n",
    "\n",
    "os.makedirs(save_dir, exist_ok=True)"
   ]
  },
  {
   "cell_type": "code",
   "execution_count": null,
   "metadata": {},
   "outputs": [],
   "source": [
    "image_paths = [f for f in os.listdir(image_path) if f.endswith(\".png\")]\n",
    "image_paths = sorted(image_paths, key=lambda x: int(x.split('.')[0]))\n",
    "images = [Image.open(image_path) for image_path in image_paths]"
   ]
  },
  {
   "cell_type": "code",
   "execution_count": null,
   "metadata": {},
   "outputs": [],
   "source": [
    "animation_ddpm = plot_sample(images, save_dir)\n",
    "HTML(animation_ddpm.to_jshtml())"
   ]
  }
 ],
 "metadata": {
  "language_info": {
   "name": "python"
  },
  "orig_nbformat": 4
 },
 "nbformat": 4,
 "nbformat_minor": 2
}
