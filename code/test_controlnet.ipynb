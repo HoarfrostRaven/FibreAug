{
  "cells": [
    {
      "cell_type": "code",
      "execution_count": null,
      "metadata": {
        "colab": {
          "base_uri": "https://localhost:8080/"
        },
        "id": "L52bmJXkAMQz",
        "outputId": "0113bb3c-e341-44a5-eb49-bcc40042292e"
      },
      "outputs": [],
      "source": [
        "# !nvidia-smi"
      ]
    },
    {
      "cell_type": "code",
      "execution_count": null,
      "metadata": {},
      "outputs": [],
      "source": [
        "# !pip install diffusers accelerate transformers opencv-contrib-python"
      ]
    },
    {
      "cell_type": "code",
      "execution_count": null,
      "metadata": {
        "id": "AOe3MmjoAoSU"
      },
      "outputs": [],
      "source": [
        "# from huggingface_hub import notebook_login\n",
        "\n",
        "# notebook_login()"
      ]
    },
    {
      "cell_type": "code",
      "execution_count": null,
      "metadata": {
        "id": "2Dc_jCS5j62b"
      },
      "outputs": [],
      "source": [
        "import torch\n",
        "import os\n",
        "from huggingface_hub import HfApi\n",
        "from pathlib import Path\n",
        "from diffusers.utils import load_image\n",
        "import numpy as np\n",
        "import cv2\n",
        "import PIL\n",
        "\n",
        "from diffusers import (\n",
        "    ControlNetModel,\n",
        "    StableDiffusionControlNetPipeline,\n",
        "    UniPCMultistepScheduler,\n",
        ")"
      ]
    },
    {
      "cell_type": "code",
      "execution_count": null,
      "metadata": {
        "colab": {
          "background_save": true
        },
        "id": "V_L1FzltkCk1",
        "outputId": "c1713a9f-0b15-402b-bc8c-de0150d2413b"
      },
      "outputs": [],
      "source": [
        "# image = load_image(\n",
        "#     \"https://huggingface.co/lllyasviel/control_v11p_sd15_canny/resolve/main/images/input.png\"\n",
        "# )\n",
        "image = PIL.Image.open(\"000.jpg\")\n",
        "image = image.resize((1024, 768))\n",
        "image"
      ]
    },
    {
      "cell_type": "code",
      "execution_count": null,
      "metadata": {
        "colab": {
          "background_save": true
        },
        "id": "T1rADky5kY9P",
        "outputId": "3f78d5be-1ff3-4f7a-c78f-63de1617ab95"
      },
      "outputs": [],
      "source": [
        "low_threshold = 100\n",
        "high_threshold = 200\n",
        "\n",
        "image = np.array(image)\n",
        "image = cv2.Canny(image, low_threshold, high_threshold)\n",
        "image = image[:, :, None]\n",
        "image = np.concatenate([image, image, image], axis=2)\n",
        "control_image = PIL.Image.fromarray(image)\n",
        "control_image\n",
        "\n",
        "# control_image.save(\"./images/control.png\")"
      ]
    },
    {
      "cell_type": "code",
      "execution_count": null,
      "metadata": {
        "id": "FuNjxSmfka8X"
      },
      "outputs": [],
      "source": [
        "checkpoint_controlnet = \"lllyasviel/control_v11p_sd15_canny\"\n",
        "checkpoint_diffusion = \"runwayml/stable-diffusion-v1-5\"\n",
        "device = \"cuda\"\n",
        "\n",
        "\n",
        "controlnet = ControlNetModel.from_pretrained(checkpoint_controlnet, torch_dtype=torch.float16)\n",
        "pipe = StableDiffusionControlNetPipeline.from_pretrained(\n",
        "    checkpoint_diffusion, controlnet=controlnet, torch_dtype=torch.float16\n",
        ")\n",
        "pipe = pipe.to(device)\n",
        "pipe.scheduler = UniPCMultistepScheduler.from_config(pipe.scheduler.config)\n",
        "pipe.enable_model_cpu_offload()\n",
        "\n",
        "prompt = \"A cabinet filled with orange, red and white cables, each cable in one color\"\n",
        "generator = torch.manual_seed(33)\n",
        "image = pipe(prompt, num_inference_steps=20, generator=generator, image=control_image).images[0]\n",
        "image\n",
        "\n",
        "# image.save('images/image_out.png')"
      ]
    }
  ],
  "metadata": {
    "accelerator": "GPU",
    "colab": {
      "machine_shape": "hm",
      "provenance": []
    },
    "gpuClass": "standard",
    "kernelspec": {
      "display_name": "Python 3",
      "name": "python3"
    },
    "language_info": {
      "codemirror_mode": {
        "name": "ipython",
        "version": 3
      },
      "file_extension": ".py",
      "mimetype": "text/x-python",
      "name": "python",
      "nbconvert_exporter": "python",
      "pygments_lexer": "ipython3",
      "version": "3.11.3"
    }
  },
  "nbformat": 4,
  "nbformat_minor": 0
}
