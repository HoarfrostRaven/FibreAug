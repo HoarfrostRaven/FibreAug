{
 "cells": [
  {
   "cell_type": "code",
   "execution_count": null,
   "metadata": {},
   "outputs": [],
   "source": [
    "import os\n",
    "import torch\n",
    "import matplotlib.pyplot as plt"
   ]
  },
  {
   "cell_type": "code",
   "execution_count": null,
   "metadata": {},
   "outputs": [],
   "source": [
    "def load_checkpoint(checkpoint_path):\n",
    "    checkpoint = torch.load(checkpoint_path)\n",
    "    return checkpoint['epoch'], checkpoint['loss']"
   ]
  },
  {
   "cell_type": "code",
   "execution_count": null,
   "metadata": {},
   "outputs": [],
   "source": [
    "def get_loss(save_dir):\n",
    "    checkpoints = [f for f in os.listdir(save_dir) if f.startswith('checkpoint_')]\n",
    "    checkpoints = sorted(checkpoints, key=lambda x: int(x.split('_')[-1].split('.')[0]))\n",
    "    epochs = []\n",
    "    losses = []\n",
    "    for checkpoint_file in checkpoints:\n",
    "        epoch, loss = load_checkpoint(os.path.join(save_dir, checkpoint_file))\n",
    "        epochs.append(epoch)\n",
    "        losses.append(loss)\n",
    "    \n",
    "    return epochs, losses"
   ]
  },
  {
   "cell_type": "code",
   "execution_count": null,
   "metadata": {},
   "outputs": [],
   "source": [
    "def plot_loss(epochs, losses, save_dir = None):\n",
    "    plt.plot(epochs, losses, label='Loss')\n",
    "    plt.xlabel('Epoch')\n",
    "    plt.ylabel('Loss')\n",
    "    plt.title('Loss Evolution')\n",
    "    plt.legend()\n",
    "    plt.grid(True)\n",
    "    \n",
    "    if save_dir:\n",
    "        plt.savefig(os.path.join(save_dir, \"loss.jpg\"))\n",
    "        print(f\"saved image at {save_dir}\")"
   ]
  },
  {
   "cell_type": "code",
   "execution_count": null,
   "metadata": {},
   "outputs": [],
   "source": [
    "folder_path = os.path.abspath(os.path.join(os.getcwd(), \"..\"))\n",
    "save_dir = os.path.join(folder_path, \"test_diffusion_model\", \"test1\")\n",
    "epochs, losses = get_loss(save_dir)"
   ]
  },
  {
   "cell_type": "code",
   "execution_count": null,
   "metadata": {},
   "outputs": [],
   "source": [
    "plot_loss(epochs, losses, save_dir)"
   ]
  }
 ],
 "metadata": {
  "language_info": {
   "name": "python"
  },
  "orig_nbformat": 4
 },
 "nbformat": 4,
 "nbformat_minor": 2
}
